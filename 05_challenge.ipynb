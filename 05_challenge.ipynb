{
 "cells": [
  {
   "cell_type": "code",
   "execution_count": 23,
   "metadata": {},
   "outputs": [
    {
     "name": "stdout",
     "output_type": "stream",
     "text": [
      "dbname='etl_bites' user='joemiller'\n"
     ]
    }
   ],
   "source": [
    "import boto3\n",
    "import botocore\n",
    "import os\n",
    "import psycopg2\n",
    "from dotenv import load_dotenv #pip install python-dotenv\n",
    "from psycopg2 import connect, sql\n",
    "from os import environ as env\n",
    "import pandas as pd\n",
    "\n",
    "load_dotenv()\n",
    "conn_string = os.getenv('conn_string')\n",
    "AWS_ACCESS_KEY = os.getenv('AWS_ACCESS_KEY')\n",
    "AWS_SECRET_KEY = os.getenv('AWS_SECRET_KEY')\n",
    "\n",
    "\n",
    "\n",
    "if 'conn_string' in env:\n",
    "    print(env['conn_string'][:35])"
   ]
  },
  {
   "cell_type": "markdown",
   "metadata": {},
   "source": [
    "## 05 Challenge\n",
    "\n",
    "Find the most visited URL per country per day during a week of your choice (e.g. 2018-04-01 until 2018-04-08).\n",
    "\n",
    "For the data about the browser, we are going to assume the right column is event_url\n"
   ]
  },
  {
   "cell_type": "code",
   "execution_count": 30,
   "metadata": {},
   "outputs": [],
   "source": [
    "import boto3\n",
    "import time\n",
    "import psycopg2\n",
    "\n",
    "\n",
    "# Set up the Athena client\n",
    "athena_client = boto3.client(\n",
    "    'athena',\n",
    "    region_name='eu-west-2',\n",
    "    aws_access_key_id= AWS_ACCESS_KEY,\n",
    "    aws_secret_access_key= AWS_SECRET_KEY,\n",
    "    )\n",
    "\n",
    "# Write the SQL query\n",
    "sql_query = \"\"\"\n",
    "    SELECT server_request_country_code, event_url, day, COUNT(*) as num_visits\n",
    "    FROM vod_clickstream\n",
    "    WHERE datetime >= CAST('2018-04-01' AS timestamp) AND datetime < CAST('2018-04-02' AS timestamp)\n",
    "    GROUP BY server_request_country_code, event_url, day\n",
    "    LIMIT 2000\n",
    "    ;\n",
    "\"\"\"\n",
    "\n",
    "# sql_query = \"\"\"\n",
    "#     SELECT server_request_country_code, event_url, dt, COUNT(*) as num_visits\n",
    "#     FROM vod_clickstream\n",
    "#     WHERE datetime >= CAST('2018-04-01' AS timestamp) AND datetime < CAST('2018-04-08' AS timestamp)\n",
    "#     GROUP BY server_request_country_code, event_url, dt\n",
    "#     ORDER BY server_request_country_code\n",
    "#     ;\n",
    "# \"\"\"\n",
    "\n",
    "\n",
    "# Execute the Athena query\n",
    "query_execution = athena_client.start_query_execution(\n",
    "    QueryString=sql_query,\n",
    "    QueryExecutionContext={\n",
    "        \"Database\": \"joe-athena_parquet\"\n",
    "    },\n",
    "    ResultConfiguration={\n",
    "        \"OutputLocation\": \"s3://athena-learners-etl-bite05/joe\" # <= This will be different for you, refer to the Amazon Athena pill for more information.\n",
    "    }\n",
    ")\n",
    "\n",
    "# Poll the query status until it is either successful or failed\n",
    "query_status = \"QUEUED\"\n",
    "query_execution_id = query_execution[\"QueryExecutionId\"]\n",
    "\n",
    "while query_status in [\"QUEUED\", \"RUNNING\"]:\n",
    "    query_execution = athena_client.get_query_execution(\n",
    "        QueryExecutionId=query_execution_id\n",
    "    )\n",
    "    query_status = query_execution[\"QueryExecution\"][\"Status\"][\"State\"]\n",
    "    if query_status == \"FAILED\":\n",
    "        raise Exception(\"Athena query failed!\")\n",
    "    time.sleep(1)\n",
    "\n",
    "results = []\n",
    "\n",
    "query_results = athena_client.get_query_results(QueryExecutionId=query_execution_id)\n",
    "results.extend(query_results[\"ResultSet\"][\"Rows\"])\n",
    "\n",
    "if \"NextToken\" in query_results:\n",
    "        next_token = query_results[\"NextToken\"]\n",
    "        \n",
    "while \"NextToken\" in query_results:\n",
    "    # Retrieve the query results with pagination\n",
    "    query_results = athena_client.get_query_results(\n",
    "        QueryExecutionId=query_execution_id,\n",
    "        NextToken=next_token\n",
    "        )\n",
    "\n",
    "    # Add the current set of results to the overall results\n",
    "    results.extend(query_results[\"ResultSet\"][\"Rows\"])\n",
    "\n",
    "    # Check if there are more results to retrieve\n",
    "    if \"NextToken\" in query_results:\n",
    "        next_token = query_results[\"NextToken\"]\n",
    "    else:\n",
    "        break\n",
    "\n"
   ]
  },
  {
   "cell_type": "code",
   "execution_count": 31,
   "metadata": {},
   "outputs": [
    {
     "data": {
      "text/plain": [
       "2001"
      ]
     },
     "execution_count": 31,
     "metadata": {},
     "output_type": "execute_result"
    }
   ],
   "source": [
    "len(results)"
   ]
  },
  {
   "cell_type": "code",
   "execution_count": 27,
   "metadata": {},
   "outputs": [
    {
     "ename": "KeyboardInterrupt",
     "evalue": "",
     "output_type": "error",
     "traceback": [
      "\u001b[0;31m---------------------------------------------------------------------------\u001b[0m",
      "\u001b[0;31mKeyboardInterrupt\u001b[0m                         Traceback (most recent call last)",
      "\u001b[1;32m/Users/joemiller/Documents/makers_academy/Data-Engineering/Projects/etl_bites/05_challenge.ipynb Cell 5\u001b[0m line \u001b[0;36m1\n\u001b[1;32m      <a href='vscode-notebook-cell:/Users/joemiller/Documents/makers_academy/Data-Engineering/Projects/etl_bites/05_challenge.ipynb#W5sZmlsZQ%3D%3D?line=7'>8</a>\u001b[0m     num_visits \u001b[39m=\u001b[39m \u001b[39mint\u001b[39m(row[\u001b[39m\"\u001b[39m\u001b[39mData\u001b[39m\u001b[39m\"\u001b[39m][\u001b[39m3\u001b[39m][\u001b[39m\"\u001b[39m\u001b[39mVarCharValue\u001b[39m\u001b[39m\"\u001b[39m])\n\u001b[1;32m     <a href='vscode-notebook-cell:/Users/joemiller/Documents/makers_academy/Data-Engineering/Projects/etl_bites/05_challenge.ipynb#W5sZmlsZQ%3D%3D?line=9'>10</a>\u001b[0m     values \u001b[39m=\u001b[39m pd\u001b[39m.\u001b[39mDataFrame({\u001b[39m\"\u001b[39m\u001b[39mcountry_code\u001b[39m\u001b[39m\"\u001b[39m : [country_code], \n\u001b[1;32m     <a href='vscode-notebook-cell:/Users/joemiller/Documents/makers_academy/Data-Engineering/Projects/etl_bites/05_challenge.ipynb#W5sZmlsZQ%3D%3D?line=10'>11</a>\u001b[0m               \u001b[39m\"\u001b[39m\u001b[39mevent_url\u001b[39m\u001b[39m\"\u001b[39m: [event_url], \n\u001b[1;32m     <a href='vscode-notebook-cell:/Users/joemiller/Documents/makers_academy/Data-Engineering/Projects/etl_bites/05_challenge.ipynb#W5sZmlsZQ%3D%3D?line=11'>12</a>\u001b[0m               \u001b[39m\"\u001b[39m\u001b[39mdt\u001b[39m\u001b[39m\"\u001b[39m: [dt],\n\u001b[1;32m     <a href='vscode-notebook-cell:/Users/joemiller/Documents/makers_academy/Data-Engineering/Projects/etl_bites/05_challenge.ipynb#W5sZmlsZQ%3D%3D?line=12'>13</a>\u001b[0m               \u001b[39m\"\u001b[39m\u001b[39mnum_visits\u001b[39m\u001b[39m\"\u001b[39m: [num_visits]})\n\u001b[0;32m---> <a href='vscode-notebook-cell:/Users/joemiller/Documents/makers_academy/Data-Engineering/Projects/etl_bites/05_challenge.ipynb#W5sZmlsZQ%3D%3D?line=14'>15</a>\u001b[0m     results_df \u001b[39m=\u001b[39m pd\u001b[39m.\u001b[39mconcat([results_df, values], ignore_index\u001b[39m=\u001b[39m\u001b[39mTrue\u001b[39;00m)\n\u001b[1;32m     <a href='vscode-notebook-cell:/Users/joemiller/Documents/makers_academy/Data-Engineering/Projects/etl_bites/05_challenge.ipynb#W5sZmlsZQ%3D%3D?line=16'>17</a>\u001b[0m results_df\n",
      "\u001b[0;31mKeyboardInterrupt\u001b[0m: "
     ]
    }
   ],
   "source": [
    "# Process the query results\n",
    "results_df = pd.DataFrame(columns=[\"country_code\", \"event_url\", \"dt\", \"num_visits\"])\n",
    "\n",
    "for row in results[1:]:\n",
    "    country_code = row[\"Data\"][0][\"VarCharValue\"]\n",
    "    event_url = row[\"Data\"][1][\"VarCharValue\"]\n",
    "    dt = row[\"Data\"][2][\"VarCharValue\"]\n",
    "    num_visits = int(row[\"Data\"][3][\"VarCharValue\"])\n",
    "\n",
    "    values = pd.DataFrame({\"country_code\" : [country_code], \n",
    "              \"event_url\": [event_url], \n",
    "              \"dt\": [dt],\n",
    "              \"num_visits\": [num_visits]})\n",
    "    \n",
    "    results_df = pd.concat([results_df, values], ignore_index=True)\n",
    "\n",
    "results_df\n"
   ]
  },
  {
   "cell_type": "code",
   "execution_count": null,
   "metadata": {},
   "outputs": [
    {
     "data": {
      "text/html": [
       "<div>\n",
       "<style scoped>\n",
       "    .dataframe tbody tr th:only-of-type {\n",
       "        vertical-align: middle;\n",
       "    }\n",
       "\n",
       "    .dataframe tbody tr th {\n",
       "        vertical-align: top;\n",
       "    }\n",
       "\n",
       "    .dataframe thead th {\n",
       "        text-align: right;\n",
       "    }\n",
       "</style>\n",
       "<table border=\"1\" class=\"dataframe\">\n",
       "  <thead>\n",
       "    <tr style=\"text-align: right;\">\n",
       "      <th></th>\n",
       "      <th>event_url</th>\n",
       "      <th>dt</th>\n",
       "      <th>num_visits</th>\n",
       "    </tr>\n",
       "    <tr>\n",
       "      <th>country_code</th>\n",
       "      <th></th>\n",
       "      <th></th>\n",
       "      <th></th>\n",
       "    </tr>\n",
       "  </thead>\n",
       "  <tbody>\n",
       "    <tr>\n",
       "      <th></th>\n",
       "      <td>https://www.netflix.com/youraccount?confirm=pa...</td>\n",
       "      <td>2018-04-07</td>\n",
       "      <td>15</td>\n",
       "    </tr>\n",
       "    <tr>\n",
       "      <th>A1</th>\n",
       "      <td>https://www.netflix.com/watch/80146758?trackId...</td>\n",
       "      <td>2018-04-07</td>\n",
       "      <td>21</td>\n",
       "    </tr>\n",
       "    <tr>\n",
       "      <th>A2</th>\n",
       "      <td>https://www.netflix.com/watch/80177465?trackId...</td>\n",
       "      <td>2018-04-04</td>\n",
       "      <td>12</td>\n",
       "    </tr>\n",
       "    <tr>\n",
       "      <th>AD</th>\n",
       "      <td>https://www.netflix.com/watch/80212990?trackId...</td>\n",
       "      <td>2018-04-07</td>\n",
       "      <td>12</td>\n",
       "    </tr>\n",
       "    <tr>\n",
       "      <th>AE</th>\n",
       "      <td>https://www.netflix.com/youraccount?message=ph...</td>\n",
       "      <td>2018-04-07</td>\n",
       "      <td>355</td>\n",
       "    </tr>\n",
       "  </tbody>\n",
       "</table>\n",
       "</div>"
      ],
      "text/plain": [
       "                                                      event_url          dt  \\\n",
       "country_code                                                                  \n",
       "              https://www.netflix.com/youraccount?confirm=pa...  2018-04-07   \n",
       "A1            https://www.netflix.com/watch/80146758?trackId...  2018-04-07   \n",
       "A2            https://www.netflix.com/watch/80177465?trackId...  2018-04-04   \n",
       "AD            https://www.netflix.com/watch/80212990?trackId...  2018-04-07   \n",
       "AE            https://www.netflix.com/youraccount?message=ph...  2018-04-07   \n",
       "\n",
       "             num_visits  \n",
       "country_code             \n",
       "                     15  \n",
       "A1                   21  \n",
       "A2                   12  \n",
       "AD                   12  \n",
       "AE                  355  "
      ]
     },
     "execution_count": 8,
     "metadata": {},
     "output_type": "execute_result"
    }
   ],
   "source": [
    "groups = results_df.groupby(by=\"country_code\").max()\n",
    "groups"
   ]
  },
  {
   "cell_type": "code",
   "execution_count": null,
   "metadata": {},
   "outputs": [
    {
     "data": {
      "text/html": [
       "<div>\n",
       "<style scoped>\n",
       "    .dataframe tbody tr th:only-of-type {\n",
       "        vertical-align: middle;\n",
       "    }\n",
       "\n",
       "    .dataframe tbody tr th {\n",
       "        vertical-align: top;\n",
       "    }\n",
       "\n",
       "    .dataframe thead th {\n",
       "        text-align: right;\n",
       "    }\n",
       "</style>\n",
       "<table border=\"1\" class=\"dataframe\">\n",
       "  <thead>\n",
       "    <tr style=\"text-align: right;\">\n",
       "      <th></th>\n",
       "      <th>event_url</th>\n",
       "      <th>num_visits</th>\n",
       "    </tr>\n",
       "    <tr>\n",
       "      <th>dt</th>\n",
       "      <th></th>\n",
       "      <th></th>\n",
       "    </tr>\n",
       "  </thead>\n",
       "  <tbody>\n",
       "    <tr>\n",
       "      <th>2018-04-04</th>\n",
       "      <td>https://www.netflix.com/watch/80177465?trackId...</td>\n",
       "      <td>12</td>\n",
       "    </tr>\n",
       "    <tr>\n",
       "      <th>2018-04-07</th>\n",
       "      <td>https://www.netflix.com/youraccount?message=ph...</td>\n",
       "      <td>355</td>\n",
       "    </tr>\n",
       "  </tbody>\n",
       "</table>\n",
       "</div>"
      ],
      "text/plain": [
       "                                                    event_url num_visits\n",
       "dt                                                                      \n",
       "2018-04-04  https://www.netflix.com/watch/80177465?trackId...         12\n",
       "2018-04-07  https://www.netflix.com/youraccount?message=ph...        355"
      ]
     },
     "execution_count": 9,
     "metadata": {},
     "output_type": "execute_result"
    }
   ],
   "source": [
    "groups.groupby(by=\"dt\").max()"
   ]
  },
  {
   "cell_type": "code",
   "execution_count": null,
   "metadata": {},
   "outputs": [],
   "source": []
  },
  {
   "cell_type": "code",
   "execution_count": null,
   "metadata": {},
   "outputs": [],
   "source": []
  }
 ],
 "metadata": {
  "kernelspec": {
   "display_name": "etl-bites-venv",
   "language": "python",
   "name": "python3"
  },
  "language_info": {
   "codemirror_mode": {
    "name": "ipython",
    "version": 3
   },
   "file_extension": ".py",
   "mimetype": "text/x-python",
   "name": "python",
   "nbconvert_exporter": "python",
   "pygments_lexer": "ipython3",
   "version": "3.11.4"
  }
 },
 "nbformat": 4,
 "nbformat_minor": 2
}
