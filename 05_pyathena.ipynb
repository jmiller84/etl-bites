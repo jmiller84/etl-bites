{
 "cells": [
  {
   "cell_type": "code",
   "execution_count": 1,
   "metadata": {},
   "outputs": [
    {
     "name": "stdout",
     "output_type": "stream",
     "text": [
      "dbname='etl_bites' user='joemiller'\n"
     ]
    }
   ],
   "source": [
    "import os\n",
    "import psycopg2\n",
    "from dotenv import load_dotenv #pip install python-dotenv\n",
    "from psycopg2 import connect, sql\n",
    "from os import environ as env\n",
    "from pyathena import connect\n",
    "import pandas as pd\n",
    "\n",
    "load_dotenv()\n",
    "conn_string = os.getenv('conn_string')\n",
    "AWS_ACCESS_KEY = os.getenv('AWS_ACCESS_KEY')\n",
    "AWS_SECRET_KEY = os.getenv('AWS_SECRET_KEY')\n",
    "\n",
    "\n",
    "\n",
    "if 'conn_string' in env:\n",
    "    print(env['conn_string'][:35])"
   ]
  },
  {
   "cell_type": "code",
   "execution_count": 13,
   "metadata": {},
   "outputs": [
    {
     "name": "stderr",
     "output_type": "stream",
     "text": [
      "/var/folders/60/1x07n04s69n5zj91gyj5fyrh0000gn/T/ipykernel_72667/916483746.py:22: UserWarning: pandas only supports SQLAlchemy connectable (engine/connection) or database string URI or sqlite3 DBAPI2 connection. Other DBAPI2 objects are not tested. Please consider using SQLAlchemy.\n",
      "  df = pd.read_sql(sql_query, conn)\n"
     ]
    }
   ],
   "source": [
    "# Establish a connection to Athena\n",
    "databse = 'joe-athena_parquet'\n",
    "table = 'vod_clickstream'\n",
    "\n",
    "conn = connect(aws_access_key_id= AWS_ACCESS_KEY,\n",
    "               aws_secret_access_key= AWS_SECRET_KEY,\n",
    "               region_name= 'eu-west-2',\n",
    "               s3_staging_dir= 's3://athena-learners-etl-bite05/joe')\n",
    "\n",
    "# Write the SQL query\n",
    "sql_query = f'''\n",
    "    SELECT server_request_country_code, event_url, day, COUNT(*) as num_visits\n",
    "    FROM \"joe-athena_parquet\".{table}\n",
    "    WHERE datetime >= CAST('2018-04-01' AS timestamp) AND datetime < CAST('2018-04-02' AS timestamp)\n",
    "    GROUP BY server_request_country_code, event_url, day\n",
    "    ORDER BY server_request_country_code\n",
    "    LIMIT 5000\n",
    "    ;\n",
    "'''\n",
    "\n",
    "# Execute the query and load results into a Pandas DataFrame\n",
    "df = pd.read_sql(sql_query, conn)"
   ]
  },
  {
   "cell_type": "code",
   "execution_count": 11,
   "metadata": {},
   "outputs": [
    {
     "data": {
      "text/html": [
       "<div>\n",
       "<style scoped>\n",
       "    .dataframe tbody tr th:only-of-type {\n",
       "        vertical-align: middle;\n",
       "    }\n",
       "\n",
       "    .dataframe tbody tr th {\n",
       "        vertical-align: top;\n",
       "    }\n",
       "\n",
       "    .dataframe thead th {\n",
       "        text-align: right;\n",
       "    }\n",
       "</style>\n",
       "<table border=\"1\" class=\"dataframe\">\n",
       "  <thead>\n",
       "    <tr style=\"text-align: right;\">\n",
       "      <th></th>\n",
       "      <th>server_request_country_code</th>\n",
       "      <th>event_url</th>\n",
       "      <th>day</th>\n",
       "    </tr>\n",
       "  </thead>\n",
       "  <tbody>\n",
       "    <tr>\n",
       "      <th>0</th>\n",
       "      <td>CA</td>\n",
       "      <td>https://www.netflix.com/browse</td>\n",
       "      <td>16</td>\n",
       "    </tr>\n",
       "    <tr>\n",
       "      <th>1</th>\n",
       "      <td>BR</td>\n",
       "      <td>https://www.netflix.com/watch/80009396?trackId...</td>\n",
       "      <td>10</td>\n",
       "    </tr>\n",
       "    <tr>\n",
       "      <th>2</th>\n",
       "      <td>RU</td>\n",
       "      <td>https://www.netflix.com/title/70140457</td>\n",
       "      <td>16</td>\n",
       "    </tr>\n",
       "    <tr>\n",
       "      <th>3</th>\n",
       "      <td>MX</td>\n",
       "      <td>https://www.netflix.com/watch/70274082?trackId...</td>\n",
       "      <td>16</td>\n",
       "    </tr>\n",
       "    <tr>\n",
       "      <th>4</th>\n",
       "      <td>BE</td>\n",
       "      <td>https://www.netflix.com/watch/70236413?trackId...</td>\n",
       "      <td>16</td>\n",
       "    </tr>\n",
       "  </tbody>\n",
       "</table>\n",
       "</div>"
      ],
      "text/plain": [
       "  server_request_country_code  \\\n",
       "0                          CA   \n",
       "1                          BR   \n",
       "2                          RU   \n",
       "3                          MX   \n",
       "4                          BE   \n",
       "\n",
       "                                           event_url day  \n",
       "0                     https://www.netflix.com/browse  16  \n",
       "1  https://www.netflix.com/watch/80009396?trackId...  10  \n",
       "2             https://www.netflix.com/title/70140457  16  \n",
       "3  https://www.netflix.com/watch/70274082?trackId...  16  \n",
       "4  https://www.netflix.com/watch/70236413?trackId...  16  "
      ]
     },
     "execution_count": 11,
     "metadata": {},
     "output_type": "execute_result"
    }
   ],
   "source": [
    "df"
   ]
  },
  {
   "cell_type": "code",
   "execution_count": null,
   "metadata": {},
   "outputs": [],
   "source": []
  }
 ],
 "metadata": {
  "kernelspec": {
   "display_name": "etl-bites-venv",
   "language": "python",
   "name": "python3"
  },
  "language_info": {
   "codemirror_mode": {
    "name": "ipython",
    "version": 3
   },
   "file_extension": ".py",
   "mimetype": "text/x-python",
   "name": "python",
   "nbconvert_exporter": "python",
   "pygments_lexer": "ipython3",
   "version": "3.11.4"
  }
 },
 "nbformat": 4,
 "nbformat_minor": 2
}
